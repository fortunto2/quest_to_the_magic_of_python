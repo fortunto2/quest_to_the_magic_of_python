{
 "cells": [
  {
   "cell_type": "markdown",
   "metadata": {},
   "source": [
    "# Что такое Python и что нам нужно\n",
    "***\n",
    "\n",
    "Для запуска программы написанной на Python'e необходим интерпретатор.\n",
    "\n",
    "Интерпретатор - программа, которая служит для выполнения кода.\n",
    "\n",
    "Интерпретатор пошагово исполняет код исходя из общепринятых правил.\n",
    "\n",
    "Программа на Python'e - это текст кода, сохраненный в формате \".py\".\n",
    "\n",
    "Чтобы исполнить написанный вами код необходимо вызвать интерпретатор и указать путь к файлу программы.\n",
    "\n",
    "Пример: \n",
    "\n",
    "```sh\n",
    "python имя_файла.py \n",
    "```\n"
   ]
  },
  {
   "cell_type": "markdown",
   "metadata": {},
   "source": [
    "# Переменные\n",
    "***\n",
    "Название переменной в Python должно начинаться с алфавитного символа или со знака подчеркивания и может содержать алфавитно-цифровые символы и знак подчеркивания. И кроме того, название переменной не должно совпадать с названием ключевых слов языка Python.\n",
    "\n",
    "### Присваивание\n",
    "Присваивание осуществляется с помощью знака \"=\", например:\n",
    "```python\n",
    "x = 24\n",
    "```\n",
    "\n",
    "  ***\n",
    "  \n",
    "### Типы данных\n",
    "![alt text](datatypes.png)"
   ]
  },
  {
   "cell_type": "code",
   "execution_count": 1,
   "metadata": {},
   "outputs": [],
   "source": [
    "x = 24 # в переменной x будет храниться число 24\n",
    "\n",
    "# Не надо объявлять новую переменную, \n",
    "# если мы присваем значение с другим типом\n",
    "# это называется динамическая типизация\n",
    "x = \"Айрат\" "
   ]
  },
  {
   "cell_type": "code",
   "execution_count": 2,
   "metadata": {},
   "outputs": [
    {
     "name": "stdout",
     "output_type": "stream",
     "text": [
      "Victor\n"
     ]
    },
    {
     "data": {
      "text/plain": [
       "'Victor'"
      ]
     },
     "execution_count": 2,
     "metadata": {},
     "output_type": "execute_result"
    }
   ],
   "source": [
    "input()"
   ]
  },
  {
   "cell_type": "markdown",
   "metadata": {},
   "source": [
    "### Как узнать тип переменной\n",
    "Функция type возращает тип переменной, например:\n",
    "~~~~python\n",
    "type(int())\n",
    "~~~~"
   ]
  },
  {
   "cell_type": "markdown",
   "metadata": {},
   "source": [
    "# Вывод на экран\n",
    "```python\n",
    "print(24)\n",
    "```\n",
    "Функция print выводит содержимое на экран, в скобках указывается что нужно распечатать."
   ]
  },
  {
   "cell_type": "markdown",
   "metadata": {},
   "source": [
    "# Ввод\n",
    " ```python\n",
    " input()\n",
    " ```\n",
    " input - ожидает ввода с клавиатуры, ввод оканчивается клавишей Enter.  \n",
    " input - всегда возвращает строку. "
   ]
  },
  {
   "cell_type": "markdown",
   "metadata": {},
   "source": [
    "# Основные математические операции "
   ]
  },
  {
   "cell_type": "code",
   "execution_count": 2,
   "metadata": {},
   "outputs": [
    {
     "data": {
      "text/plain": [
       "32"
      ]
     },
     "execution_count": 2,
     "metadata": {},
     "output_type": "execute_result"
    }
   ],
   "source": [
    "2 + 2 # сложение\n",
    "2 - 2.24 # вычитание\n",
    "2 * 2 # умножение\n",
    "52 / 24.24 # деление, важно результат имеет тип float\n",
    "2 // 2 # целочисленное деление\n",
    "2 % 4 # остаток от деления\n",
    "2 ** 5 # возведение в степень"
   ]
  },
  {
   "cell_type": "markdown",
   "metadata": {},
   "source": [
    "# Работа со строками\n",
    " * Конкатенация - сложение строк(оператор +)\n",
    " * Взятие элемента по индексу - обращение к символупо индексу(индекс указывается после строки в квадратных скобках)"
   ]
  },
  {
   "cell_type": "markdown",
   "metadata": {},
   "source": [
    "# Логические операторы\n",
    " ```python\n",
    " 1 > 0 # больше\n",
    " 1 < 0 # меньше\n",
    " 1 >= 0 # больше либо равно\n",
    " 1 <= 0 # меньше либо равно\n",
    " 1 == 0  # равно\n",
    " 2 != 1 # неравно\n",
    " 1 and 1 # логическое \"И\"\n",
    " 2 or 2 # логические \"или\"\n",
    "```"
   ]
  },
  {
   "cell_type": "markdown",
   "metadata": {},
   "source": [
    "# Конструкция if .. elif .. else  "
   ]
  },
  {
   "cell_type": "markdown",
   "metadata": {},
   "source": [
    "```python\n",
    "if выражение:\n",
    "    действия, если выражение равно True\n",
    "elif выражение2:\n",
    "    действия, если выражение2 равно True\n",
    "else:\n",
    "    действия, в противном случае\n",
    "```"
   ]
  },
  {
   "cell_type": "code",
   "execution_count": 8,
   "metadata": {},
   "outputs": [],
   "source": [
    "if 2 > 3 < 4 and 1 or 0:\n",
    "    print('yes')"
   ]
  }
 ],
 "metadata": {
  "kernelspec": {
   "display_name": "Python 3",
   "language": "python",
   "name": "python3"
  },
  "language_info": {
   "codemirror_mode": {
    "name": "ipython",
    "version": 3
   },
   "file_extension": ".py",
   "mimetype": "text/x-python",
   "name": "python",
   "nbconvert_exporter": "python",
   "pygments_lexer": "ipython3",
   "version": "3.6.6"
  }
 },
 "nbformat": 4,
 "nbformat_minor": 2
}
